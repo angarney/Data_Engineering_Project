{
 "cells": [
  {
   "cell_type": "code",
   "execution_count": 5,
   "source": [
    "#Import necessary packages\n",
    "import requests\n",
    "import pickle\n",
    "import pandas as pd\n",
    "import numpy as np\n",
    "from pymongo import MongoClient\n",
    "from datetime import date\n",
    "import time\n",
    "\n",
    "#Bring in pickled objects\n",
    "list_of_topics = pickle.load(open('list_of_topics','rb'))\n",
    "\n",
    "#Open MongoDB connection\n",
    "client = MongoClient()\n",
    "\n",
    "#Create database/start connection to databse\n",
    "db = client.news\n",
    "articles = db.news"
   ],
   "outputs": [],
   "metadata": {}
  },
  {
   "cell_type": "code",
   "execution_count": 14,
   "source": [
    "#Create function for API query initial database\n",
    "def query_news(topic, api_key, api_host):\n",
    "    url = \"https://free-news.p.rapidapi.com/v1/search\"\n",
    "    querystring = {'q': topic,'lang':'en', 'page_size':'100'}\n",
    "    headers = {\n",
    "        'x-rapidapi-key': api_key,\n",
    "        'x-rapidapi-host': api_host\n",
    "        }\n",
    "    response = requests.request(\"GET\", url, headers=headers, params=querystring)\n",
    "    return response.json()\n",
    "\n",
    "#Create test workflow to ensure database and functions are working properly\n",
    "#Create test collection\n",
    "#test_collection = db.news\n",
    "\n",
    "#Query API\n",
    "test_query = query_news('flooding')\n",
    "\n",
    "#Pull out articles specifically\n",
    "query_to_insert = list(test_query['articles'])\n",
    "\n",
    "#Insert articles\n",
    "db.test_collection.insert_many(query_to_insert)\n",
    "\n",
    "#Test to ensure articles are contained in database\n",
    "list(db.test_collection.find({}, {'_id':0, 'title': 1}))\n",
    "\n",
    "#Pull articles from API\n",
    "for topic in list_of_topics:\n",
    "    try:\n",
    "        working_query = query_news(topic)\n",
    "        working_query = list(working_query['articles'])\n",
    "        db.articles.insert_many(working_query, ordered=False)\n",
    "    except:\n",
    "        print('No articles found for the following topic:', topic)\n",
    "    print(db.articles.count(), 'articles added so far')\n",
    "    time.sleep(1)"
   ],
   "outputs": [],
   "metadata": {}
  }
 ],
 "metadata": {
  "orig_nbformat": 4,
  "language_info": {
   "name": "python",
   "version": "3.8.8",
   "mimetype": "text/x-python",
   "codemirror_mode": {
    "name": "ipython",
    "version": 3
   },
   "pygments_lexer": "ipython3",
   "nbconvert_exporter": "python",
   "file_extension": ".py"
  },
  "kernelspec": {
   "name": "python3",
   "display_name": "Python 3.8.8 64-bit ('metis': conda)"
  },
  "interpreter": {
   "hash": "9ff5619d0b4d23b346007d49da5f2b2df0f81ce2bd1fd38999567ed2108bbf81"
  }
 },
 "nbformat": 4,
 "nbformat_minor": 2
}